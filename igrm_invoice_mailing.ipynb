{
 "cells": [
  {
   "cell_type": "code",
   "execution_count": 17,
   "metadata": {},
   "outputs": [],
   "source": [
    "import smtplib\n",
    "from email.mime.multipart import MIMEMultipart\n",
    "from email.mime.text import MIMEText\n",
    "from email.mime.base import MIMEBase\n",
    "from email import encoders\n",
    "from dotenv import dotenv_values"
   ]
  },
  {
   "cell_type": "code",
   "execution_count": 24,
   "metadata": {},
   "outputs": [],
   "source": [
    "cenv = dotenv_values(\".env\")\n",
    "\n",
    "mail_to = \"jens-ole@petersen.top\"\n",
    "mail_subject = \"IGRM: Rechnung Mitgliedsbeitrag 2021\"\n"
   ]
  },
  {
   "cell_type": "code",
   "execution_count": 26,
   "metadata": {},
   "outputs": [],
   "source": [
    "mail_attachment = \"C:/Coding/IGRM-PDF-Invoice-Generation/IGRM-PDF-Invoice-Generation/out/IGRM_Mitgliedsrechnung_4711.pdf\"\n",
    "mail_attachment_name=\"IGRM_Mitgliedsrechnung_4711.pdf\"\n",
    "\n",
    "mimemsg = MIMEMultipart('alternative')\n",
    "mimemsg['From']=mail_from\n",
    "mimemsg['To']=mail_to\n",
    "mimemsg['Subject']=mail_subject\n",
    "\n",
    "with open(\"mail-template.txt\") as f:\n",
    "    bodytext = f.read()\n",
    "with open(\"mail-template.html\") as f:\n",
    "    bodyhtml = f.read()\n",
    "\n",
    "mimemsg.attach(MIMEText(bodytext, 'plain'))\n",
    "mimemsg.attach(MIMEText(bodyhtml, 'html'))\n",
    "\n",
    "with open(mail_attachment, \"rb\") as attachment:\n",
    "    mimefile = MIMEBase('application', 'octet-stream')\n",
    "    mimefile.set_payload((attachment).read())\n",
    "    encoders.encode_base64(mimefile)\n",
    "    mimefile.add_header('Content-Disposition', \"attachment; filename= %s\" % mail_attachment_name)\n",
    "    mimemsg.attach(mimefile)\n",
    "\n",
    "    connection = smtplib.SMTP(host=cenv[\"host\"], port=cenv[\"port\"])\n",
    "    connection.starttls()\n",
    "    connection.login(cenv[\"username\"], cenv[\"password\"])\n",
    "    connection.send_message(mimemsg)\n",
    "    connection.quit()"
   ]
  }
 ],
 "metadata": {
  "interpreter": {
   "hash": "f8fb67edad1100d77587927b5094f366a61f39bea7b1d2a6586f983f58d23aed"
  },
  "kernelspec": {
   "display_name": "Python 3.9.6 64-bit ('py39': conda)",
   "name": "python3"
  },
  "language_info": {
   "codemirror_mode": {
    "name": "ipython",
    "version": 3
   },
   "file_extension": ".py",
   "mimetype": "text/x-python",
   "name": "python",
   "nbconvert_exporter": "python",
   "pygments_lexer": "ipython3",
   "version": "3.9.6"
  },
  "orig_nbformat": 4
 },
 "nbformat": 4,
 "nbformat_minor": 2
}
