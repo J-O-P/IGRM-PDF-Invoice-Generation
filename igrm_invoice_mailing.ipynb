{
 "cells": [
  {
   "cell_type": "code",
   "execution_count": 18,
   "metadata": {},
   "outputs": [],
   "source": [
    "import smtplib\n",
    "from email.mime.multipart import MIMEMultipart\n",
    "from email.mime.text import MIMEText\n",
    "from email.mime.base import MIMEBase\n",
    "from email import encoders\n",
    "from dotenv import dotenv_values\n",
    "import pandas as pd\n",
    "import time"
   ]
  },
  {
   "cell_type": "code",
   "execution_count": 19,
   "metadata": {},
   "outputs": [],
   "source": [
    "# Variablen für den Lauf\n",
    "cenv = dotenv_values(\".env\")\n",
    "\n",
    "#mail_to = \"jens-ole@petersen.top\"\n",
    "mail_subject = \"IGRM: Rechnung Mitgliedsbeitrag 2021\"\n",
    "attachment_folder = \"out/\""
   ]
  },
  {
   "cell_type": "code",
   "execution_count": 20,
   "metadata": {},
   "outputs": [],
   "source": [
    "def send_email(to_address, mitgliedsnummer):\n",
    "\n",
    "    mail_attachment = attachment_folder + \"IGRM_Mitgliedsrechnung_\" + str(mitgliedsnummer) + \".pdf\"\n",
    "    mail_attachment_name = \"IGRM_Mitgliedsrechnung_\" + str(mitgliedsnummer) + \".pdf\"\n",
    "\n",
    "    #mail_attachment = \"C:/Coding/IGRM-PDF-Invoice-Generation/IGRM-PDF-Invoice-Generation/out/IGRM_Mitgliedsrechnung_4711.pdf\"\n",
    "\n",
    "    mimemsg = MIMEMultipart('alternative')\n",
    "    mimemsg['From'] = cenv[\"mail_from\"]\n",
    "    mimemsg['To'] = to_address\n",
    "    mimemsg['Subject'] = mail_subject\n",
    "\n",
    "    with open(\"mail-template.txt\") as f:\n",
    "        bodytext = f.read()\n",
    "    with open(\"mail-template.html\") as f:\n",
    "        bodyhtml = f.read()\n",
    "\n",
    "    mimemsg.attach(MIMEText(bodytext, 'plain'))\n",
    "    mimemsg.attach(MIMEText(bodyhtml, 'html'))\n",
    "\n",
    "    with open(mail_attachment, \"rb\") as attachment:\n",
    "        mimefile = MIMEBase('application', 'octet-stream')\n",
    "        mimefile.set_payload((attachment).read())\n",
    "        encoders.encode_base64(mimefile)\n",
    "        mimefile.add_header('Content-Disposition', \"attachment; filename= %s\" % mail_attachment_name)\n",
    "        mimemsg.attach(mimefile)\n",
    "\n",
    "        connection = smtplib.SMTP(host=cenv[\"host\"], port=cenv[\"port\"])\n",
    "        connection.starttls()\n",
    "        connection.login(cenv[\"username\"], cenv[\"password\"])\n",
    "        connection.send_message(mimemsg)\n",
    "        connection.quit()"
   ]
  },
  {
   "cell_type": "code",
   "execution_count": 21,
   "metadata": {},
   "outputs": [],
   "source": [
    "# Einlesen der Daten für den Lauf\n",
    "liste = pd.read_excel(\"Rechnungsversand 2021.xlsx\")    #csv: , sep=\";\"\n",
    "rm_quote = lambda x: x.replace('\"', '')\n",
    "liste = liste.rename(columns=rm_quote)\n",
    "liste = liste.set_index(\"ID\")"
   ]
  },
  {
   "cell_type": "code",
   "execution_count": 23,
   "metadata": {},
   "outputs": [
    {
     "name": "stdout",
     "output_type": "stream",
     "text": [
      "1000 bernpayables@cslbehring.com\n"
     ]
    },
    {
     "ename": "SMTPRecipientsRefused",
     "evalue": "{'block': (501, b'5.1.3 Invalid address')}",
     "output_type": "error",
     "traceback": [
      "\u001b[1;31m---------------------------------------------------------------------------\u001b[0m",
      "\u001b[1;31mSMTPRecipientsRefused\u001b[0m                     Traceback (most recent call last)",
      "\u001b[1;32m~\\AppData\\Local\\Temp/ipykernel_9848/1478061133.py\u001b[0m in \u001b[0;36m<module>\u001b[1;34m\u001b[0m\n\u001b[0;32m      7\u001b[0m     \u001b[0mprint\u001b[0m\u001b[1;33m(\u001b[0m\u001b[0mmgnr\u001b[0m\u001b[1;33m,\u001b[0m \u001b[0mst\u001b[0m\u001b[1;33m)\u001b[0m\u001b[1;33m\u001b[0m\u001b[1;33m\u001b[0m\u001b[0m\n\u001b[0;32m      8\u001b[0m     \u001b[0mst\u001b[0m \u001b[1;33m=\u001b[0m \u001b[1;34m\"block schutz\"\u001b[0m\u001b[1;33m\u001b[0m\u001b[1;33m\u001b[0m\u001b[0m\n\u001b[1;32m----> 9\u001b[1;33m     \u001b[0msend_email\u001b[0m\u001b[1;33m(\u001b[0m\u001b[0mst\u001b[0m\u001b[1;33m,\u001b[0m \u001b[0mmgnr\u001b[0m\u001b[1;33m)\u001b[0m\u001b[1;33m\u001b[0m\u001b[1;33m\u001b[0m\u001b[0m\n\u001b[0m\u001b[0;32m     10\u001b[0m \u001b[1;33m\u001b[0m\u001b[0m\n\u001b[0;32m     11\u001b[0m     \u001b[0mtime\u001b[0m\u001b[1;33m.\u001b[0m\u001b[0msleep\u001b[0m\u001b[1;33m(\u001b[0m\u001b[1;36m30\u001b[0m\u001b[1;33m)\u001b[0m  \u001b[1;31m# Send Limit in O365 of 30 Mail per minute\u001b[0m\u001b[1;33m\u001b[0m\u001b[1;33m\u001b[0m\u001b[0m\n",
      "\u001b[1;32m~\\AppData\\Local\\Temp/ipykernel_9848/3283456084.py\u001b[0m in \u001b[0;36msend_email\u001b[1;34m(to_address, mitgliedsnummer)\u001b[0m\n\u001b[0;32m     29\u001b[0m         \u001b[0mconnection\u001b[0m\u001b[1;33m.\u001b[0m\u001b[0mstarttls\u001b[0m\u001b[1;33m(\u001b[0m\u001b[1;33m)\u001b[0m\u001b[1;33m\u001b[0m\u001b[1;33m\u001b[0m\u001b[0m\n\u001b[0;32m     30\u001b[0m         \u001b[0mconnection\u001b[0m\u001b[1;33m.\u001b[0m\u001b[0mlogin\u001b[0m\u001b[1;33m(\u001b[0m\u001b[0mcenv\u001b[0m\u001b[1;33m[\u001b[0m\u001b[1;34m\"username\"\u001b[0m\u001b[1;33m]\u001b[0m\u001b[1;33m,\u001b[0m \u001b[0mcenv\u001b[0m\u001b[1;33m[\u001b[0m\u001b[1;34m\"password\"\u001b[0m\u001b[1;33m]\u001b[0m\u001b[1;33m)\u001b[0m\u001b[1;33m\u001b[0m\u001b[1;33m\u001b[0m\u001b[0m\n\u001b[1;32m---> 31\u001b[1;33m         \u001b[0mconnection\u001b[0m\u001b[1;33m.\u001b[0m\u001b[0msend_message\u001b[0m\u001b[1;33m(\u001b[0m\u001b[0mmimemsg\u001b[0m\u001b[1;33m)\u001b[0m\u001b[1;33m\u001b[0m\u001b[1;33m\u001b[0m\u001b[0m\n\u001b[0m\u001b[0;32m     32\u001b[0m         \u001b[0mconnection\u001b[0m\u001b[1;33m.\u001b[0m\u001b[0mquit\u001b[0m\u001b[1;33m(\u001b[0m\u001b[1;33m)\u001b[0m\u001b[1;33m\u001b[0m\u001b[1;33m\u001b[0m\u001b[0m\n",
      "\u001b[1;32mC:\\Miniconda3\\envs\\py39\\lib\\smtplib.py\u001b[0m in \u001b[0;36msend_message\u001b[1;34m(self, msg, from_addr, to_addrs, mail_options, rcpt_options)\u001b[0m\n\u001b[0;32m    979\u001b[0m             \u001b[0mg\u001b[0m\u001b[1;33m.\u001b[0m\u001b[0mflatten\u001b[0m\u001b[1;33m(\u001b[0m\u001b[0mmsg_copy\u001b[0m\u001b[1;33m,\u001b[0m \u001b[0mlinesep\u001b[0m\u001b[1;33m=\u001b[0m\u001b[1;34m'\\r\\n'\u001b[0m\u001b[1;33m)\u001b[0m\u001b[1;33m\u001b[0m\u001b[1;33m\u001b[0m\u001b[0m\n\u001b[0;32m    980\u001b[0m             \u001b[0mflatmsg\u001b[0m \u001b[1;33m=\u001b[0m \u001b[0mbytesmsg\u001b[0m\u001b[1;33m.\u001b[0m\u001b[0mgetvalue\u001b[0m\u001b[1;33m(\u001b[0m\u001b[1;33m)\u001b[0m\u001b[1;33m\u001b[0m\u001b[1;33m\u001b[0m\u001b[0m\n\u001b[1;32m--> 981\u001b[1;33m         return self.sendmail(from_addr, to_addrs, flatmsg, mail_options,\n\u001b[0m\u001b[0;32m    982\u001b[0m                              rcpt_options)\n\u001b[0;32m    983\u001b[0m \u001b[1;33m\u001b[0m\u001b[0m\n",
      "\u001b[1;32mC:\\Miniconda3\\envs\\py39\\lib\\smtplib.py\u001b[0m in \u001b[0;36msendmail\u001b[1;34m(self, from_addr, to_addrs, msg, mail_options, rcpt_options)\u001b[0m\n\u001b[0;32m    894\u001b[0m             \u001b[1;31m# the server refused all our recipients\u001b[0m\u001b[1;33m\u001b[0m\u001b[1;33m\u001b[0m\u001b[1;33m\u001b[0m\u001b[0m\n\u001b[0;32m    895\u001b[0m             \u001b[0mself\u001b[0m\u001b[1;33m.\u001b[0m\u001b[0m_rset\u001b[0m\u001b[1;33m(\u001b[0m\u001b[1;33m)\u001b[0m\u001b[1;33m\u001b[0m\u001b[1;33m\u001b[0m\u001b[0m\n\u001b[1;32m--> 896\u001b[1;33m             \u001b[1;32mraise\u001b[0m \u001b[0mSMTPRecipientsRefused\u001b[0m\u001b[1;33m(\u001b[0m\u001b[0msenderrs\u001b[0m\u001b[1;33m)\u001b[0m\u001b[1;33m\u001b[0m\u001b[1;33m\u001b[0m\u001b[0m\n\u001b[0m\u001b[0;32m    897\u001b[0m         \u001b[1;33m(\u001b[0m\u001b[0mcode\u001b[0m\u001b[1;33m,\u001b[0m \u001b[0mresp\u001b[0m\u001b[1;33m)\u001b[0m \u001b[1;33m=\u001b[0m \u001b[0mself\u001b[0m\u001b[1;33m.\u001b[0m\u001b[0mdata\u001b[0m\u001b[1;33m(\u001b[0m\u001b[0mmsg\u001b[0m\u001b[1;33m)\u001b[0m\u001b[1;33m\u001b[0m\u001b[1;33m\u001b[0m\u001b[0m\n\u001b[0;32m    898\u001b[0m         \u001b[1;32mif\u001b[0m \u001b[0mcode\u001b[0m \u001b[1;33m!=\u001b[0m \u001b[1;36m250\u001b[0m\u001b[1;33m:\u001b[0m\u001b[1;33m\u001b[0m\u001b[1;33m\u001b[0m\u001b[0m\n",
      "\u001b[1;31mSMTPRecipientsRefused\u001b[0m: {'block': (501, b'5.1.3 Invalid address')}"
     ]
    }
   ],
   "source": [
    "for i in range(len(liste)):\n",
    "\n",
    "    d = liste.iloc[i]\n",
    "\n",
    "    mgnr = d[\"Mitgliedsnummer\"] \n",
    "    st = d[\"E-Mail Rechnungsversand\"]\n",
    "    print(mgnr, st)\n",
    "    st = \"block schutz\"\n",
    "    send_email(st, mgnr)\n",
    "\n",
    "    time.sleep(30)  # Send Limit in O365 of 30 Mail per minute"
   ]
  }
 ],
 "metadata": {
  "interpreter": {
   "hash": "f8fb67edad1100d77587927b5094f366a61f39bea7b1d2a6586f983f58d23aed"
  },
  "kernelspec": {
   "display_name": "Python 3.9.6 64-bit ('py39': conda)",
   "name": "python3"
  },
  "language_info": {
   "codemirror_mode": {
    "name": "ipython",
    "version": 3
   },
   "file_extension": ".py",
   "mimetype": "text/x-python",
   "name": "python",
   "nbconvert_exporter": "python",
   "pygments_lexer": "ipython3",
   "version": "3.9.6"
  },
  "orig_nbformat": 4
 },
 "nbformat": 4,
 "nbformat_minor": 2
}
