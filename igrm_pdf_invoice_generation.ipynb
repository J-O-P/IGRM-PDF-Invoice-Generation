{
 "cells": [
  {
   "cell_type": "markdown",
   "metadata": {},
   "source": [
    "# Setup Environment"
   ]
  },
  {
   "cell_type": "code",
   "execution_count": 40,
   "metadata": {},
   "outputs": [],
   "source": [
    "import datetime\n",
    "import os\n",
    "import locale\n",
    "locale.setlocale(locale.LC_TIME, \"de_DE.UTF-8\")\n",
    "\n",
    "import pandas as pd\n",
    "import numpy as np\n",
    "\n",
    "from reportlab.pdfgen import canvas\n",
    "from reportlab.lib.pagesizes import A4\n",
    "from reportlab.lib.units import cm\n",
    "from reportlab.graphics import renderPDF\n",
    "\n",
    "from qrbill.bill import QRBill\n",
    "from svglib.svglib import svg2rlg\n"
   ]
  },
  {
   "cell_type": "code",
   "execution_count": 41,
   "metadata": {},
   "outputs": [],
   "source": [
    "# Old setup with wand and MagickWand \n",
    "#from wand.image import Image as WImage\n",
    "#from wand.color import Color\n",
    "\n",
    "#def show_pdf(pdffilename):\n",
    "#    img = WImage(filename=pdffilename)\n",
    "#    bg = WImage(width=img.width, height=img.height, background=Color(\"white\"))\n",
    "#    bg.composite(img,0,0)\n",
    "#    return bg"
   ]
  },
  {
   "cell_type": "code",
   "execution_count": 42,
   "metadata": {},
   "outputs": [],
   "source": [
    "# Display PDF\n",
    "# Works in Browser with jupyter notebook, but not within VSC. See: https://github.com/microsoft/vscode/issues/186266 \n",
    "class PDF(object):\n",
    "  def __init__(self, pdf, size=(400,600)):\n",
    "    self.pdf = pdf\n",
    "    self.size = size\n",
    "\n",
    "  def _repr_html_(self):\n",
    "    return '<iframe src={0} width={1[0]} height={1[1]}></iframe>'.format(self.pdf, self.size)\n",
    "\n",
    "  def _repr_latex_(self):\n",
    "    return r'\\includegraphics[width=1.0\\textwidth]{{{0}}}'.format(self.pdf)\n",
    "\n",
    "def show_pdf(pdffilename):\n",
    "    return PDF(pdffilename,size=(600,900))"
   ]
  },
  {
   "cell_type": "code",
   "execution_count": 43,
   "metadata": {},
   "outputs": [
    {
     "name": "stdout",
     "output_type": "stream",
     "text": [
      "3.10.15 | packaged by Anaconda, Inc. | (main, Oct  3 2024, 07:22:19) [MSC v.1929 64 bit (AMD64)]\n",
      "C:\\git\\IGRM-PDF-Invoice-Generation\n"
     ]
    }
   ],
   "source": [
    "#E Env Check - Should be our conda env with all packages according to conda_environment.yml\n",
    "import sys\n",
    "print(sys.version)\n",
    "print(os.getcwd())"
   ]
  },
  {
   "cell_type": "markdown",
   "metadata": {},
   "source": [
    "## Konstanten für den Lauf"
   ]
  },
  {
   "cell_type": "code",
   "execution_count": 44,
   "metadata": {},
   "outputs": [],
   "source": [
    "rechnungsjahr = 2024\n",
    "rechnungsdatum = datetime.date(2024, 10, 14)\n",
    "rechnungsdatum_formatiert = rechnungsdatum.strftime(\"%d. %B %Y\")\n",
    "titelzeile = \"Rechnung für Jahresbeitrag \" + str(rechnungsjahr)\n",
    "preis = {\n",
    "    \"Kollektiv\": 150,\n",
    "    \"Einzel\": 40,\n",
    "    \"Vorstand\": 0\n",
    "}"
   ]
  },
  {
   "cell_type": "markdown",
   "metadata": {},
   "source": [
    "# Generate Invoice Definitions"
   ]
  },
  {
   "cell_type": "code",
   "execution_count": 45,
   "metadata": {},
   "outputs": [],
   "source": [
    "def gen_ref_number(mitglied, jahr):\n",
    "    if mitglied < 1000 or mitglied > 9999:\n",
    "        raise Exception (\"Ungültige Mitgliedsnummer\")\n",
    "    if jahr < 1000 or jahr > 9999:\n",
    "        raise Exception (\"Ungültiges Jahr\")\n",
    "    num_str = str(jahr) + str(mitglied) \n",
    "    prüfsumme = 98 - ( int(num_str + \"271500\") % 97 )\n",
    "    prüf_str = \"%02d\" % prüfsumme\n",
    "    return  \"RF\" + prüf_str + num_str"
   ]
  },
  {
   "cell_type": "code",
   "execution_count": 46,
   "metadata": {},
   "outputs": [],
   "source": [
    "def generate_zahlteil(fn_svg, d):\n",
    "    my_bill = QRBill(\n",
    "            account = 'CH28 0900 0000 3046 8052 2',\n",
    "            amount = f'{preis[d[\"Mitgliedstyp\"]]:.2f}',\n",
    "            currency=\"CHF\",\n",
    "            creditor={\n",
    "                'name': 'Interessensgemeinschaft Records Management',\n",
    "                #'street': 'Postfach', \n",
    "                #'house_num': '2551',\n",
    "                'pcode': '3001', \n",
    "                'city': 'Bern', \n",
    "                'country': 'CH'\n",
    "            },\n",
    "            debtor={\n",
    "                'name': d[\"Rechnungsadresse 1\"],\n",
    "                'street': d[\"Rechnungsadresse 2\"], \n",
    "                'house_num': \"\",\n",
    "                'pcode': str(d[\"PLZ\"]), \n",
    "                'city': d[\"Ort\"], \n",
    "                'country': 'CH'\n",
    "            },\n",
    "            #due_date=\"2019-12-14\",\n",
    "            reference_number = gen_ref_number(d[\"Mitgliedsnummer\"], rechnungsjahr),\n",
    "            additional_information = \"Mitgliedsnummer \" + str(d[\"Mitgliedsnummer\"]),\n",
    "            language=\"de\"\n",
    "        )\n",
    "    my_bill.as_svg(fn_svg)\n"
   ]
  },
  {
   "cell_type": "code",
   "execution_count": 47,
   "metadata": {},
   "outputs": [],
   "source": [
    "def generate_pdf(target_fn, d):\n",
    "    def header(c):\n",
    "        to = c.beginText()\n",
    "        to.setTextOrigin(2*cm, height-1.8*cm)\n",
    "        to.setFont(\"Helvetica-Bold\", 11)\n",
    "        to.textLine(\"Interessengemeinschaft Records Management\")\n",
    "        to.setFont(\"Helvetica\", 11)\n",
    "        to.textLine(\"3001 Bern\")\n",
    "        to.textLine(\"\")\n",
    "        to.textLine(\"www.igrm.ch\")\n",
    "        c.drawText(to)\n",
    "        c.drawInlineImage('igrmlogo.jpg', 14*cm, height-4.6*cm, 4*cm, 3.038*cm)\n",
    "\n",
    "    def zahlteil(c):    \n",
    "        generate_zahlteil(\"tmp.svg\", d)\n",
    "        drawing = svg2rlg(\"tmp.svg\")\n",
    "        renderPDF.draw(drawing, c, 0, 0)\n",
    "        os.remove(\"tmp.svg\")\n",
    "\n",
    "    def adresse(c):\n",
    "        to = c.beginText()\n",
    "        to.setTextOrigin(2*cm, height-5.4*cm)\n",
    "        to.setFont(\"Helvetica\", 8)\n",
    "        to.textLine(\"Interessengemeinschaft Records Management, 3001 Bern\")\n",
    "        to.textLine(\"\")\n",
    "        to.setFont(\"Helvetica\", 11)\n",
    "        to.textLine(d[\"Rechnungsadresse 1\"])\n",
    "        to.textLine(d[\"Rechnungsadresse 2\"])\n",
    "        to.textLine(d[\"Rechnungsadresse 3\"])\n",
    "        if pd.notna(d[\"Rechnungsadresse 4\"]):\n",
    "            to.textLine(d[\"Rechnungsadresse 4\"])\n",
    "        if pd.notna(d[\"Rechnungsadresse 5\"]):\n",
    "            to.textLine(d[\"Rechnungsadresse 5\"])\n",
    "        to.textLine(\"Versand per Email an: \" + d[\"E-Mail Rechnungsversand\"])\n",
    "        c.drawText(to)\n",
    "        p = c.beginPath()\n",
    "        p.moveTo(2*cm, height-5.6*cm)\n",
    "        p.lineTo(9.5*cm, height-5.6*cm)\n",
    "        p.close()\n",
    "        c.drawPath(p)\n",
    "\n",
    "    def rechnung_kopf(c):\n",
    "        to = c.beginText()\n",
    "        to.setTextOrigin(2*cm, height-10*cm)\n",
    "        to.setFont(\"Helvetica\", 14)\n",
    "        to.textLine(titelzeile)\n",
    "        to.moveCursor(0,10)\n",
    "        to.setFont(\"Helvetica\", 11)\n",
    "        to.textOut('Rechnungsdatum:')\n",
    "        to.moveCursor(5*cm, 0)\n",
    "        to.textLine(rechnungsdatum_formatiert)\n",
    "        to.moveCursor(-5*cm, 0)\n",
    "        to.textOut(\"Ansprechperson:\")\n",
    "        to.moveCursor(5*cm, 0)\n",
    "        to.textOut(d[\"Ansprechperson\"])\n",
    "        to.moveCursor(5*cm, 0)\n",
    "        to.textLine(d[\"Telefon\"])\n",
    "        if pd.notna(d[\"E-Mail\"]):\n",
    "            to.textLine(d[\"E-Mail\"])\n",
    "        to.moveCursor(-10*cm, 0)\n",
    "        to.textOut(\"Typ Mitgliedschaft:\")\n",
    "        to.moveCursor(5*cm, 0)\n",
    "        to.textLine(d[\"Mitgliedstyp\"])\n",
    "        to.moveCursor(-5*cm, 0)\n",
    "        to.textOut(\"Mitgliedsnummer:\")\n",
    "        to.moveCursor(5*cm, 0)\n",
    "        to.textLine(str(d[\"Mitgliedsnummer\"]))\n",
    "        to.moveCursor(-5*cm, 0)\n",
    "        if pd.notna(d[\"Referenz\"]):\n",
    "            to.textOut(\"Ihre Referenz:\")\n",
    "            to.moveCursor(5*cm, 0)\n",
    "            to.textLine(d[\"Referenz\"])\n",
    "            to.moveCursor(-5*cm, 0)\n",
    "        if pd.notna(d[\"Kostenstelle\"]):\n",
    "            to.textOut(\"Ihre Kostenstelle:\")\n",
    "            to.moveCursor(5*cm, 0)\n",
    "            to.textLine(str(d[\"Kostenstelle\"]))\n",
    "            c.drawText(to)\n",
    "\n",
    "    def rechnung_tabelle(c):\n",
    "        unten = height-16*cm\n",
    "        links = 2*cm\n",
    "        rechts = 17*cm\n",
    "        zeilenhöhe = 0.8*cm\n",
    "        sp1 = 1*cm\n",
    "        sp2 = 7*cm\n",
    "        sp3 = 9*cm\n",
    "        sp4 = 12*cm\n",
    "        xoffset = 5\n",
    "        yoffset = 8\n",
    "\n",
    "        p = c.beginPath()\n",
    "        p.moveTo(links, unten)\n",
    "        p.lineTo(rechts, unten)\n",
    "        p.moveTo(links, 1 * zeilenhöhe + unten)\n",
    "        p.lineTo(rechts, 1 * zeilenhöhe + unten)\n",
    "        p.moveTo(links, 2 * zeilenhöhe + unten)\n",
    "        p.lineTo(rechts, 2 * zeilenhöhe + unten)\n",
    "        p.moveTo(links, unten)\n",
    "        p.lineTo(links, 2 * zeilenhöhe + unten)\n",
    "        p.moveTo(rechts, unten)\n",
    "        p.lineTo(rechts, 2 * zeilenhöhe + unten)\n",
    "        p.moveTo(links + sp1, unten)\n",
    "        p.lineTo(links + sp1, 2 * zeilenhöhe + unten)\n",
    "        p.moveTo(links + sp2, unten)\n",
    "        p.lineTo(links + sp2, 2 * zeilenhöhe + unten)\n",
    "        p.moveTo(links + sp3, unten)\n",
    "        p.lineTo(links + sp3, 2 * zeilenhöhe + unten)\n",
    "        p.moveTo(links + sp4, unten)\n",
    "        p.lineTo(links + sp4, 2 * zeilenhöhe + unten)\n",
    "        p.close()\n",
    "        c.drawPath(p)\n",
    "\n",
    "        c.setFont(\"Helvetica-Bold\", 11)\n",
    "        c.drawString(links + xoffset, unten + zeilenhöhe + yoffset, \"#\")\n",
    "        c.drawString(links + sp1 + xoffset, unten + zeilenhöhe + yoffset, \"Item\")\n",
    "        c.drawString(links + sp2 + xoffset, unten + zeilenhöhe + yoffset, \"Menge\")\n",
    "        c.drawString(links + sp3 + xoffset, unten + zeilenhöhe + yoffset, \"Einzel\")\n",
    "        c.drawString(links + sp4 + xoffset, unten + zeilenhöhe + yoffset, \"Gesamt\")\n",
    "        c.setFont(\"Helvetica\", 11)\n",
    "        c.drawString(links + xoffset, unten + yoffset, \"1\")\n",
    "        c.drawString(links + sp1 + xoffset, unten  + yoffset, d[\"Mitgliedstyp\"])\n",
    "        c.drawString(links + sp2 + xoffset, unten  + yoffset, \"1\")\n",
    "        c.drawString(links + sp3 + xoffset, unten  + yoffset, f'{preis[d[\"Mitgliedstyp\"]]:.2f}' + \" Fr.\")\n",
    "        c.setFont(\"Helvetica-Bold\", 11)\n",
    "        c.drawString(links + sp4 + xoffset, unten  + yoffset, f'{preis[d[\"Mitgliedstyp\"]]:.2f}' + \" Fr.\")\n",
    "\n",
    "    def rechnung_hinweise(c):\n",
    "        to = c.beginText()\n",
    "        to.setTextOrigin(2*cm, height-17*cm)\n",
    "        to.setFont(\"Helvetica\", 11)\n",
    "        to.textLine(\"Zahlungskonditionen: 30 Tage, netto\")\n",
    "        to.textLine(\"Bankverbindung: Postfinance, IBAN: CH28 0900 0000 3046 8052 2, Konto: 30-468052-2\")\n",
    "        to.textLine(\"\")\n",
    "        to.textLine(\"Fragen zur Rechnung? Schreiben Sie eine E-Mail an: kassier@igrm.ch\")\n",
    "        c.drawText(to)\n",
    "\n",
    "    c = canvas.Canvas(target_fn , pagesize=A4)\n",
    "    width, height = A4\n",
    "    header(c)\n",
    "    zahlteil(c)\n",
    "    adresse(c)\n",
    "    rechnung_kopf(c)\n",
    "    rechnung_tabelle(c)\n",
    "    rechnung_hinweise(c)\n",
    "    c.save()\n"
   ]
  },
  {
   "cell_type": "markdown",
   "metadata": {},
   "source": [
    "# Local Tests"
   ]
  },
  {
   "cell_type": "code",
   "execution_count": 48,
   "metadata": {},
   "outputs": [
    {
     "data": {
      "text/html": [
       "<iframe src=SAMPLE_IGRM_Mitgliedsrechnung_4711.pdf width=600 height=900></iframe>"
      ],
      "text/latex": [
       "\\includegraphics[width=1.0\\textwidth]{SAMPLE_IGRM_Mitgliedsrechnung_4711.pdf}"
      ],
      "text/plain": [
       "<__main__.PDF at 0x20f6d11b820>"
      ]
     },
     "execution_count": 48,
     "metadata": {},
     "output_type": "execute_result"
    }
   ],
   "source": [
    "# PDF View Test only\n",
    "# Be careful: No spaces in filename\n",
    "show_pdf('SAMPLE_IGRM_Mitgliedsrechnung_4711.pdf')"
   ]
  },
  {
   "cell_type": "code",
   "execution_count": 49,
   "metadata": {},
   "outputs": [
    {
     "data": {
      "text/html": [
       "<iframe src=SAMPLE_IGRM_Mitgliedsrechnung_4711.pdf width=600 height=900></iframe>"
      ],
      "text/latex": [
       "\\includegraphics[width=1.0\\textwidth]{SAMPLE_IGRM_Mitgliedsrechnung_4711.pdf}"
      ],
      "text/plain": [
       "<__main__.PDF at 0x20f6c5b8e20>"
      ]
     },
     "execution_count": 49,
     "metadata": {},
     "output_type": "execute_result"
    }
   ],
   "source": [
    "# Testlauf der Generation ohne Datenliste mit festen Beispielwerten\n",
    "# Incl. viewing\n",
    "d = pd.Series(dtype = object)\n",
    "d[\"Mitgliedsnummer\"] = 4711\n",
    "d[\"Mitgliedstyp\"] = \"Vorstand\"\n",
    "d[\"Strasse/Nr.\"] = \"Musterstrasse 5\" \n",
    "d[\"PLZ\"] = \"3007\"\n",
    "d[\"Ort\"] = \"Bern\"\n",
    "d[\"Rechnungsadresse 1\"] = \"Testuser jop\"\n",
    "d[\"Rechnungsadresse 2\"] = \"For Test 2\"\n",
    "d[\"Rechnungsadresse 3\"] = \"For Test 3\"\n",
    "d[\"Rechnungsadresse 4\"] = np.nan\n",
    "d[\"Rechnungsadresse 5\"]  = \"Adr For Test 5\"\n",
    "d[\"Ansprechperson\"] = \"Jens Himself\"\n",
    "d[\"Telefon\"] = \"vorhanden 12345\"\n",
    "d[\"E-Mail\"] = \"kassier@igrm.ch\"\n",
    "d[\"Referenz\"] = \"Referenz 0815\"\n",
    "d[\"Kostenstelle\"] = \"kto 007-0815-0000-1234567890\"\n",
    "d[\"E-Mail Rechnungsversand\"] = \"ab@cd.de\"\n",
    "\n",
    "target_fn = \"SAMPLE_IGRM_Mitgliedsrechnung_\" + str(d[\"Mitgliedsnummer\"]) + \".pdf\"\n",
    "generate_pdf(target_fn, d)\n",
    "show_pdf( target_fn  )\n"
   ]
  },
  {
   "cell_type": "markdown",
   "metadata": {},
   "source": [
    "# Run "
   ]
  },
  {
   "cell_type": "code",
   "execution_count": 50,
   "metadata": {},
   "outputs": [],
   "source": [
    "base_Folder = \"C:/Users/Jens-OlePetersen/OneDrive - Interessensgemeinschaft Records Management (IGRM)/Administration Docs General Link/2024/\"\n",
    "liste_path = base_Folder + \"Finanzen/\"\n",
    "liste_filename = \"2024-10-12 Aktive Mitglieder Rechnungsversand.xlsx\"\n",
    "output_folder = base_Folder + \"Finanzen Belege/Beitragsrechnungen Mitglieder/kor/\""
   ]
  },
  {
   "cell_type": "code",
   "execution_count": 51,
   "metadata": {},
   "outputs": [],
   "source": [
    "# Einlesen der Daten für den Lauf\n",
    "liste = pd.read_excel(liste_path + liste_filename)   \n",
    "rm_quote = lambda x: x.replace('\"', '')\n",
    "liste = liste.rename(columns=rm_quote)\n",
    "liste = liste.set_index(\"ID\")"
   ]
  },
  {
   "cell_type": "code",
   "execution_count": 52,
   "metadata": {},
   "outputs": [
    {
     "data": {
      "text/html": [
       "<iframe src=TEST_IGRM_Mitgliedsrechnung_1129.pdf width=600 height=900></iframe>"
      ],
      "text/latex": [
       "\\includegraphics[width=1.0\\textwidth]{TEST_IGRM_Mitgliedsrechnung_1129.pdf}"
      ],
      "text/plain": [
       "<__main__.PDF at 0x20f6c61cf40>"
      ]
     },
     "execution_count": 52,
     "metadata": {},
     "output_type": "execute_result"
    }
   ],
   "source": [
    "# Testlauf mit einem Datensatz aus der Mitgliederlsite \n",
    "q = liste.iloc[52]\n",
    "target_fn = \"TEST_IGRM_Mitgliedsrechnung_\" + str(q[\"Mitgliedsnummer\"]) + \".pdf\"\n",
    "generate_pdf(target_fn, q)\n",
    "show_pdf(target_fn)"
   ]
  },
  {
   "cell_type": "code",
   "execution_count": 53,
   "metadata": {},
   "outputs": [
    {
     "name": "stdout",
     "output_type": "stream",
     "text": [
      "Fertig\n"
     ]
    }
   ],
   "source": [
    "# Lauf mit allen Rechnungen\n",
    "#EXIT\n",
    "for i in range(len(liste)):\n",
    "    d = liste.iloc[i]\n",
    "    target_fn = output_folder + \"IGRM_Mitgliedsrechnung_\" + str(d[\"Mitgliedsnummer\"]) + \".pdf\"\n",
    "    generate_pdf(target_fn, d)\n",
    "print(\"Fertig\")"
   ]
  }
 ],
 "metadata": {
  "kernelspec": {
   "display_name": "Python 3 (ipykernel)",
   "language": "python",
   "name": "python3"
  },
  "language_info": {
   "codemirror_mode": {
    "name": "ipython",
    "version": 3
   },
   "file_extension": ".py",
   "mimetype": "text/x-python",
   "name": "python",
   "nbconvert_exporter": "python",
   "pygments_lexer": "ipython3",
   "version": "3.10.15"
  }
 },
 "nbformat": 4,
 "nbformat_minor": 4
}
